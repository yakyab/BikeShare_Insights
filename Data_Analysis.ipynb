{
 "cells": [
  {
   "cell_type": "markdown",
   "source": [
    "# BikeShare Insights: Data Analysis\n",
    "\n",
    "This notebook will perform data analysis on the Bike Sharing dataset. We will utilize SQL queries to extract meaningful insights from the data."
   ],
   "metadata": {
    "collapsed": false
   }
  },
  {
   "cell_type": "code",
   "execution_count": 1,
   "metadata": {
    "collapsed": true
   },
   "outputs": [],
   "source": [
    "from sqlalchemy import create_engine\n",
    "import pandas as pd\n",
    "\n",
    "# Establish a connection to the SQL database\n",
    "engine = create_engine('sqlite:///bikeshare.db')\n",
    "\n",
    "# Load the data from SQL table into a DataFrame\n",
    "df = pd.read_sql('SELECT * FROM bike_rentals', engine)"
   ]
  },
  {
   "cell_type": "markdown",
   "source": [
    "The dataset from the SQL database is loaded into a pandas DataFrame. We will use SQL queries to answer the business questions.\n",
    "\n",
    "Let's start with the first question: What are the peak hours and off-peak hours for bike rentals?"
   ],
   "metadata": {
    "collapsed": false
   }
  },
  {
   "cell_type": "code",
   "execution_count": 2,
   "outputs": [
    {
     "data": {
      "text/plain": "    hr  avg_rentals\n0   17   461.452055\n1   18   425.510989\n2    8   359.011004\n3   16   311.983562\n4   19   311.523352\n5   13   253.661180\n6   12   253.315934\n7   15   251.233196\n8   14   240.949246\n9   20   226.030220\n10   9   219.309491\n11   7   212.064649\n12  11   208.143054\n13  10   173.668501\n14  21   172.314560\n15  22   131.335165\n16  23    87.831044\n17   6    76.044138\n18   0    53.898072\n19   1    33.375691\n20   2    22.869930\n21   5    19.889819\n22   3    11.727403\n23   4     6.352941",
      "text/html": "<div>\n<style scoped>\n    .dataframe tbody tr th:only-of-type {\n        vertical-align: middle;\n    }\n\n    .dataframe tbody tr th {\n        vertical-align: top;\n    }\n\n    .dataframe thead th {\n        text-align: right;\n    }\n</style>\n<table border=\"1\" class=\"dataframe\">\n  <thead>\n    <tr style=\"text-align: right;\">\n      <th></th>\n      <th>hr</th>\n      <th>avg_rentals</th>\n    </tr>\n  </thead>\n  <tbody>\n    <tr>\n      <th>0</th>\n      <td>17</td>\n      <td>461.452055</td>\n    </tr>\n    <tr>\n      <th>1</th>\n      <td>18</td>\n      <td>425.510989</td>\n    </tr>\n    <tr>\n      <th>2</th>\n      <td>8</td>\n      <td>359.011004</td>\n    </tr>\n    <tr>\n      <th>3</th>\n      <td>16</td>\n      <td>311.983562</td>\n    </tr>\n    <tr>\n      <th>4</th>\n      <td>19</td>\n      <td>311.523352</td>\n    </tr>\n    <tr>\n      <th>5</th>\n      <td>13</td>\n      <td>253.661180</td>\n    </tr>\n    <tr>\n      <th>6</th>\n      <td>12</td>\n      <td>253.315934</td>\n    </tr>\n    <tr>\n      <th>7</th>\n      <td>15</td>\n      <td>251.233196</td>\n    </tr>\n    <tr>\n      <th>8</th>\n      <td>14</td>\n      <td>240.949246</td>\n    </tr>\n    <tr>\n      <th>9</th>\n      <td>20</td>\n      <td>226.030220</td>\n    </tr>\n    <tr>\n      <th>10</th>\n      <td>9</td>\n      <td>219.309491</td>\n    </tr>\n    <tr>\n      <th>11</th>\n      <td>7</td>\n      <td>212.064649</td>\n    </tr>\n    <tr>\n      <th>12</th>\n      <td>11</td>\n      <td>208.143054</td>\n    </tr>\n    <tr>\n      <th>13</th>\n      <td>10</td>\n      <td>173.668501</td>\n    </tr>\n    <tr>\n      <th>14</th>\n      <td>21</td>\n      <td>172.314560</td>\n    </tr>\n    <tr>\n      <th>15</th>\n      <td>22</td>\n      <td>131.335165</td>\n    </tr>\n    <tr>\n      <th>16</th>\n      <td>23</td>\n      <td>87.831044</td>\n    </tr>\n    <tr>\n      <th>17</th>\n      <td>6</td>\n      <td>76.044138</td>\n    </tr>\n    <tr>\n      <th>18</th>\n      <td>0</td>\n      <td>53.898072</td>\n    </tr>\n    <tr>\n      <th>19</th>\n      <td>1</td>\n      <td>33.375691</td>\n    </tr>\n    <tr>\n      <th>20</th>\n      <td>2</td>\n      <td>22.869930</td>\n    </tr>\n    <tr>\n      <th>21</th>\n      <td>5</td>\n      <td>19.889819</td>\n    </tr>\n    <tr>\n      <th>22</th>\n      <td>3</td>\n      <td>11.727403</td>\n    </tr>\n    <tr>\n      <th>23</th>\n      <td>4</td>\n      <td>6.352941</td>\n    </tr>\n  </tbody>\n</table>\n</div>"
     },
     "execution_count": 2,
     "metadata": {},
     "output_type": "execute_result"
    }
   ],
   "source": [
    "# Execute the SQL query to find the average bike rentals for each hour of the day\n",
    "query = \"\"\"\n",
    "        SELECT hr, AVG(cnt) as avg_rentals\n",
    "        FROM bike_rentals\n",
    "        GROUP BY hr\n",
    "        ORDER BY avg_rentals DESC\n",
    "        \"\"\"\n",
    "df_hourly_avg = pd.read_sql(query, engine)\n",
    "\n",
    "# Display the result\n",
    "df_hourly_avg"
   ],
   "metadata": {
    "collapsed": false,
    "pycharm": {
     "name": "#%%\n"
    }
   }
  },
  {
   "cell_type": "markdown",
   "source": [
    "The above table shows the average number of bike rentals for each hour of the day. The hours are sorted in descending order of average rentals, giving us an indication of the peak and off-peak hours.\n",
    "\n",
    "Next, let's address the second question: How do weather conditions affect bike rentals?"
   ],
   "metadata": {
    "collapsed": false
   }
  },
  {
   "cell_type": "code",
   "execution_count": 3,
   "outputs": [
    {
     "data": {
      "text/plain": "   weathersit  avg_rentals\n0           1   204.869272\n1           2   175.165493\n2           3   111.579281\n3           4    74.333333",
      "text/html": "<div>\n<style scoped>\n    .dataframe tbody tr th:only-of-type {\n        vertical-align: middle;\n    }\n\n    .dataframe tbody tr th {\n        vertical-align: top;\n    }\n\n    .dataframe thead th {\n        text-align: right;\n    }\n</style>\n<table border=\"1\" class=\"dataframe\">\n  <thead>\n    <tr style=\"text-align: right;\">\n      <th></th>\n      <th>weathersit</th>\n      <th>avg_rentals</th>\n    </tr>\n  </thead>\n  <tbody>\n    <tr>\n      <th>0</th>\n      <td>1</td>\n      <td>204.869272</td>\n    </tr>\n    <tr>\n      <th>1</th>\n      <td>2</td>\n      <td>175.165493</td>\n    </tr>\n    <tr>\n      <th>2</th>\n      <td>3</td>\n      <td>111.579281</td>\n    </tr>\n    <tr>\n      <th>3</th>\n      <td>4</td>\n      <td>74.333333</td>\n    </tr>\n  </tbody>\n</table>\n</div>"
     },
     "execution_count": 3,
     "metadata": {},
     "output_type": "execute_result"
    }
   ],
   "source": [
    "# Execute the SQL query to find the average bike rentals for each weather situation\n",
    "query = \"\"\"\n",
    "        SELECT weathersit, AVG(cnt) as avg_rentals\n",
    "        FROM bike_rentals\n",
    "        GROUP BY weathersit\n",
    "        ORDER BY avg_rentals DESC\n",
    "        \"\"\"\n",
    "df_weather_avg = pd.read_sql(query, engine)\n",
    "\n",
    "# Display the result\n",
    "df_weather_avg"
   ],
   "metadata": {
    "collapsed": false,
    "pycharm": {
     "name": "#%%\n"
    }
   }
  },
  {
   "cell_type": "markdown",
   "source": [
    "The above table shows the average number of bike rentals for each weather situation. It can be seen how different weather conditions affect the bike rentals.\n",
    "\n",
    "Finally, let's address the third question: Are there any noticeable differences in the patterns of bike rentals between weekdays and weekends or between different seasons?"
   ],
   "metadata": {
    "collapsed": false
   }
  },
  {
   "cell_type": "code",
   "execution_count": 4,
   "outputs": [
    {
     "data": {
      "text/plain": "(   weekday  avg_rentals\n 0        4   196.436665\n 1        5   196.135907\n 2        2   191.238891\n 3        3   191.130505\n 4        6   190.209793\n 5        1   183.744655\n 6        0   177.468825,\n    season  avg_rentals\n 0       3   236.016237\n 1       2   208.344069\n 2       4   198.868856\n 3       1   111.114569)"
     },
     "execution_count": 4,
     "metadata": {},
     "output_type": "execute_result"
    }
   ],
   "source": [
    "# Execute the SQL query to find the average bike rentals for each weekday\n",
    "query = \"\"\"\n",
    "        SELECT weekday, AVG(cnt) as avg_rentals\n",
    "        FROM bike_rentals\n",
    "        GROUP BY weekday\n",
    "        ORDER BY avg_rentals DESC\n",
    "        \"\"\"\n",
    "df_weekday_avg = pd.read_sql(query, engine)\n",
    "\n",
    "# Execute the SQL query to find the average bike rentals for each season\n",
    "query = \"\"\"\n",
    "        SELECT season, AVG(cnt) as avg_rentals\n",
    "        FROM bike_rentals\n",
    "        GROUP BY season\n",
    "        ORDER BY avg_rentals DESC\n",
    "        \"\"\"\n",
    "df_season_avg = pd.read_sql(query, engine)\n",
    "\n",
    "# Display the results\n",
    "df_weekday_avg, df_season_avg"
   ],
   "metadata": {
    "collapsed": false,
    "pycharm": {
     "name": "#%%\n"
    }
   }
  },
  {
   "cell_type": "markdown",
   "source": [
    "The above tables show the average number of bike rentals for each weekday and for each season. It can be seen how bike rentals vary depending on the day of the week and the season."
   ],
   "metadata": {
    "collapsed": false
   }
  },
  {
   "cell_type": "markdown",
   "source": [
    "## Summary\n",
    "\n",
    "In this notebook, we executed SQL queries to answer our business questions. We found out the peak and off-peak hours for bike rentals, how different weather conditions affect bike rentals, and the differences in bike rental patterns between weekdays and weekends, and between different seasons. This analysis will provide valuable insights for the bike sharing company to optimize its operations and improve its service.\n",
    "\n",
    "## Business Summary\n",
    "\n",
    "Understanding the factors that influence bike rentals can help the bike sharing company to better cater to the needs of its customers. Knowing the peak and off-peak hours can guide the company in allocating its resources efficiently. Understanding the effect of weather conditions can aid in making decisions related to maintenance schedules and safety measures. Furthermore, recognizing the variations in rental patterns across weekdays and seasons can assist in planning marketing strategies and promotional campaigns."
   ],
   "metadata": {
    "collapsed": false,
    "pycharm": {
     "name": "#%% md\n"
    }
   }
  }
 ],
 "metadata": {
  "kernelspec": {
   "display_name": "Python 3",
   "language": "python",
   "name": "python3"
  },
  "language_info": {
   "codemirror_mode": {
    "name": "ipython",
    "version": 2
   },
   "file_extension": ".py",
   "mimetype": "text/x-python",
   "name": "python",
   "nbconvert_exporter": "python",
   "pygments_lexer": "ipython2",
   "version": "2.7.6"
  }
 },
 "nbformat": 4,
 "nbformat_minor": 0
}